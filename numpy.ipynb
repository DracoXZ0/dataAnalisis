{
 "cells": [
  {
   "cell_type": "markdown",
   "id": "ee5b6526",
   "metadata": {},
   "source": [
    "## Tarea numpy Simon Londono Aguirre - 1001370696"
   ]
  },
  {
   "cell_type": "code",
   "execution_count": null,
   "id": "d5cdc6b3",
   "metadata": {},
   "outputs": [],
   "source": [
    "import numpy as np"
   ]
  },
  {
   "cell_type": "markdown",
   "id": "03dec376",
   "metadata": {},
   "source": [
    "### Punto 1\n",
    "Dado 2 vectores (arreglos de Numpy unidimensionales) *x* y *y*, calcule la siguiente matriz, conocida como matriz de Cauchy:\n",
    "\n",
    "$$\n",
    "C_{ij} = \\frac{1}{x_{i}-y_{y}}\n",
    "$$"
   ]
  },
  {
   "cell_type": "code",
   "execution_count": 10,
   "id": "69d4711e",
   "metadata": {},
   "outputs": [
    {
     "name": "stdout",
     "output_type": "stream",
     "text": [
      "[[-0.33333333 -0.25       -0.2       ]\n",
      " [-0.5        -0.33333333 -0.25      ]\n",
      " [-1.         -0.5        -0.33333333]]\n"
     ]
    }
   ],
   "source": [
    "def cauchy(x, y):\n",
    "\n",
    "    d_x = x.reshape(-1, 1) - y.reshape(1, -1)\n",
    "    d_y = 1.0 / d_x\n",
    "    \n",
    "    return d_y\n",
    "\n",
    "x = np.array([1, 2, 3])\n",
    "y = np.array([4, 5, 6])\n",
    "\n",
    "cauchy = cauchy(x, y)\n",
    "print(cauchy)\n"
   ]
  },
  {
   "cell_type": "markdown",
   "id": "563e4f80",
   "metadata": {},
   "source": [
    "### Punto 2\n",
    "Haga una función que genere una matriz con números aleatorios de un tamaño *n* * *m*, donde *n* y *m* son los argumentos de la función. La función debe retornar la matriz generada, una segunda matriz que sea el resultado de restarle al valor de cada elemento la media de la fila correspondiente, y una tercera matriz que sea el resultado de restarle al valor de cada elemento de la primera matriz la media de la columna correspondiente."
   ]
  },
  {
   "cell_type": "code",
   "execution_count": 12,
   "id": "949ab92c",
   "metadata": {},
   "outputs": [
    {
     "name": "stdout",
     "output_type": "stream",
     "text": [
      "Matriz 1:\n",
      "[[0.67308643 0.4774108  0.26090401 0.14651634]\n",
      " [0.21743345 0.17202218 0.13861551 0.20791754]\n",
      " [0.39638298 0.81809332 0.80896805 0.01431156]]\n",
      "\\Matriz 2:\n",
      "[[ 0.28360704  0.0879314  -0.12857538 -0.24296306]\n",
      " [ 0.03343628 -0.01197499 -0.04538166  0.02392037]\n",
      " [-0.113056    0.30865434  0.29952908 -0.49512742]]\n",
      "\n",
      "Matriz 3:\n",
      "[[ 0.24411881 -0.01176463 -0.14192518  0.02360119]\n",
      " [-0.21153417 -0.31715325 -0.26421368  0.08500239]\n",
      " [-0.03258464  0.32891789  0.40613886 -0.10860359]]\n"
     ]
    }
   ],
   "source": [
    "def generate_random_matrix(n, m):\n",
    "\n",
    "    matrix = np.random.rand(n, m)\n",
    "    row_means = np.mean(matrix, axis=1).reshape(-1, 1)\n",
    "    matrix_row_means = matrix - row_means\n",
    "    col_means = np.mean(matrix, axis=0).reshape(1, -1)\n",
    "    matrix_col_means = matrix - col_means\n",
    "    \n",
    "    return matrix, matrix_row_means, matrix_col_means\n",
    "\n",
    "n = 3\n",
    "m = 4\n",
    "random_matrix, matrix_row_means, matrix_col_means = generate_random_matrix(n, m)\n",
    "\n",
    "print(\"Matriz 1:\")\n",
    "print(random_matrix)\n",
    "\n",
    "print(\"\\Matriz 2:\")\n",
    "print(matrix_row_means)\n",
    "\n",
    "print(\"\\nMatriz 3:\")\n",
    "print(matrix_col_means)\n",
    "\n"
   ]
  },
  {
   "cell_type": "markdown",
   "id": "05d2bc16",
   "metadata": {},
   "source": [
    "### Punto 3\n",
    "Haga una función que reciba como argumento una matriz cuadrada y retorne la misma matriz pero con los valores de su diagonal principal elevados al cuadrado."
   ]
  },
  {
   "cell_type": "code",
   "execution_count": 14,
   "id": "1ea64570",
   "metadata": {},
   "outputs": [
    {
     "name": "stdout",
     "output_type": "stream",
     "text": [
      "\n",
      "Matriz con los valores de la diagonal principal elevados al cuadrado:\n",
      "[[ 1  2  3]\n",
      " [ 4 25  6]\n",
      " [ 7  8 81]]\n"
     ]
    }
   ],
   "source": [
    "import numpy as np\n",
    "\n",
    "def diagonal(matrix):\n",
    "\n",
    "    result_matrix = matrix.copy()\n",
    "    n = matrix.shape[0]\n",
    "    result_matrix[np.arange(n), np.arange(n)] **= 2\n",
    "    \n",
    "    return result_matrix\n",
    "\n",
    "matrix = np.array([[1, 2, 3],\n",
    "                   [4, 5, 6],\n",
    "                   [7, 8, 9]])\n",
    "\n",
    "result = diagonal(matrix)\n",
    "\n",
    "print(\"\\nMatriz con los valores de la diagonal principal elevados al cuadrado:\")\n",
    "print(result)\n"
   ]
  },
  {
   "cell_type": "markdown",
   "id": "89f72060",
   "metadata": {},
   "source": [
    "### Punto 4\n",
    "Haga una función que reciba un arreglo tridimensional de tamaño (4,6,8), y entregue un arreglo bidimensional (6,8) que contenga la suma de los elementos de la dimensión colapsada."
   ]
  },
  {
   "cell_type": "code",
   "execution_count": 17,
   "id": "57b997c0",
   "metadata": {},
   "outputs": [
    {
     "name": "stdout",
     "output_type": "stream",
     "text": [
      "Arreglo colapsado de tamaño (6, 8):\n",
      "(6, 8)\n",
      "[[20 27 27  8 16 19 14 22]\n",
      " [18 14 29 23 16 10 21 13]\n",
      " [22 26 12 28 17 27 23 19]\n",
      " [14 19 18  8 21 19 10 21]\n",
      " [21 22 20  8 20 13 18 23]\n",
      " [10 19 21  7 20 29 10  4]]\n"
     ]
    }
   ],
   "source": [
    "import numpy as np\n",
    "\n",
    "def collapse_dimension(arr):\n",
    "    \n",
    "    collapsed_arr = np.sum(arr, axis=0)\n",
    "    return collapsed_arr\n",
    "\n",
    "arr = np.random.randint(0, 10, size=(4, 6, 8))\n",
    "\n",
    "collapsed_arr = collapse_dimension(arr)\n",
    "\n",
    "\n",
    "print(\"Arreglo colapsado de tamaño (6, 8):\")\n",
    "print(collapsed_arr.shape)\n",
    "print(collapsed_arr)\n"
   ]
  }
 ],
 "metadata": {
  "kernelspec": {
   "display_name": "Python 3 (ipykernel)",
   "language": "python",
   "name": "python3"
  },
  "language_info": {
   "codemirror_mode": {
    "name": "ipython",
    "version": 3
   },
   "file_extension": ".py",
   "mimetype": "text/x-python",
   "name": "python",
   "nbconvert_exporter": "python",
   "pygments_lexer": "ipython3",
   "version": "3.11.5"
  }
 },
 "nbformat": 4,
 "nbformat_minor": 5
}
