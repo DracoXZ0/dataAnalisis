{
 "cells": [
  {
   "cell_type": "code",
   "execution_count": 12,
   "metadata": {},
   "outputs": [],
   "source": [
    "import numpy as np\n",
    "import pandas as pd"
   ]
  },
  {
   "cell_type": "code",
   "execution_count": 13,
   "metadata": {
    "id": "gnmeYFW9fAHr"
   },
   "outputs": [
    {
     "data": {
      "text/html": [
       "<div>\n",
       "<style scoped>\n",
       "    .dataframe tbody tr th:only-of-type {\n",
       "        vertical-align: middle;\n",
       "    }\n",
       "\n",
       "    .dataframe tbody tr th {\n",
       "        vertical-align: top;\n",
       "    }\n",
       "\n",
       "    .dataframe thead th {\n",
       "        text-align: right;\n",
       "    }\n",
       "</style>\n",
       "<table border=\"1\" class=\"dataframe\">\n",
       "  <thead>\n",
       "    <tr style=\"text-align: right;\">\n",
       "      <th></th>\n",
       "      <th>Country</th>\n",
       "      <th>Energy Supply</th>\n",
       "      <th>Energy Supply per Capita</th>\n",
       "      <th>% Renewable</th>\n",
       "    </tr>\n",
       "  </thead>\n",
       "  <tbody>\n",
       "    <tr>\n",
       "      <th>0</th>\n",
       "      <td>Afghanistan</td>\n",
       "      <td>3.210000e+08</td>\n",
       "      <td>10.0</td>\n",
       "      <td>78.669280</td>\n",
       "    </tr>\n",
       "    <tr>\n",
       "      <th>1</th>\n",
       "      <td>Albania</td>\n",
       "      <td>1.020000e+08</td>\n",
       "      <td>35.0</td>\n",
       "      <td>100.000000</td>\n",
       "    </tr>\n",
       "    <tr>\n",
       "      <th>2</th>\n",
       "      <td>Algeria</td>\n",
       "      <td>1.959000e+09</td>\n",
       "      <td>51.0</td>\n",
       "      <td>0.551010</td>\n",
       "    </tr>\n",
       "    <tr>\n",
       "      <th>3</th>\n",
       "      <td>American Samoa</td>\n",
       "      <td>NaN</td>\n",
       "      <td>NaN</td>\n",
       "      <td>0.641026</td>\n",
       "    </tr>\n",
       "    <tr>\n",
       "      <th>4</th>\n",
       "      <td>Andorra</td>\n",
       "      <td>9.000000e+06</td>\n",
       "      <td>121.0</td>\n",
       "      <td>88.695650</td>\n",
       "    </tr>\n",
       "  </tbody>\n",
       "</table>\n",
       "</div>"
      ],
      "text/plain": [
       "          Country  Energy Supply  Energy Supply per Capita  % Renewable\n",
       "0     Afghanistan   3.210000e+08                      10.0    78.669280\n",
       "1         Albania   1.020000e+08                      35.0   100.000000\n",
       "2         Algeria   1.959000e+09                      51.0     0.551010\n",
       "3  American Samoa            NaN                       NaN     0.641026\n",
       "4         Andorra   9.000000e+06                     121.0    88.695650"
      ]
     },
     "execution_count": 13,
     "metadata": {},
     "output_type": "execute_result"
    }
   ],
   "source": [
    "df = pd.read_csv('Energy.csv')\n",
    "df.head()"
   ]
  },
  {
   "cell_type": "code",
   "execution_count": 14,
   "metadata": {
    "id": "R5pWeMMIida0"
   },
   "outputs": [
    {
     "name": "stdout",
     "output_type": "stream",
     "text": [
      "<class 'pandas.core.frame.DataFrame'>\n",
      "RangeIndex: 227 entries, 0 to 226\n",
      "Data columns (total 4 columns):\n",
      " #   Column                    Non-Null Count  Dtype  \n",
      "---  ------                    --------------  -----  \n",
      " 0   Country                   227 non-null    object \n",
      " 1   Energy Supply             222 non-null    float64\n",
      " 2   Energy Supply per Capita  222 non-null    float64\n",
      " 3   % Renewable               227 non-null    float64\n",
      "dtypes: float64(3), object(1)\n",
      "memory usage: 7.2+ KB\n"
     ]
    }
   ],
   "source": [
    "df.info()"
   ]
  },
  {
   "cell_type": "markdown",
   "metadata": {
    "id": "0mq3LRJDihcU"
   },
   "source": [
    "Haga una nueva columna que calcule la población de cada país a partir de la división entre las columnas 'Energy Supply' y 'Energy Supply per Capita'."
   ]
  },
  {
   "cell_type": "code",
   "execution_count": 15,
   "metadata": {
    "id": "3NmLMQWnickA"
   },
   "outputs": [
    {
     "data": {
      "text/html": [
       "<div>\n",
       "<style scoped>\n",
       "    .dataframe tbody tr th:only-of-type {\n",
       "        vertical-align: middle;\n",
       "    }\n",
       "\n",
       "    .dataframe tbody tr th {\n",
       "        vertical-align: top;\n",
       "    }\n",
       "\n",
       "    .dataframe thead th {\n",
       "        text-align: right;\n",
       "    }\n",
       "</style>\n",
       "<table border=\"1\" class=\"dataframe\">\n",
       "  <thead>\n",
       "    <tr style=\"text-align: right;\">\n",
       "      <th></th>\n",
       "      <th>Country</th>\n",
       "      <th>Energy Supply</th>\n",
       "      <th>Energy Supply per Capita</th>\n",
       "      <th>% Renewable</th>\n",
       "      <th>Population</th>\n",
       "    </tr>\n",
       "  </thead>\n",
       "  <tbody>\n",
       "    <tr>\n",
       "      <th>0</th>\n",
       "      <td>Afghanistan</td>\n",
       "      <td>3.210000e+08</td>\n",
       "      <td>10.0</td>\n",
       "      <td>78.669280</td>\n",
       "      <td>3.210000e+07</td>\n",
       "    </tr>\n",
       "    <tr>\n",
       "      <th>1</th>\n",
       "      <td>Albania</td>\n",
       "      <td>1.020000e+08</td>\n",
       "      <td>35.0</td>\n",
       "      <td>100.000000</td>\n",
       "      <td>2.914286e+06</td>\n",
       "    </tr>\n",
       "    <tr>\n",
       "      <th>2</th>\n",
       "      <td>Algeria</td>\n",
       "      <td>1.959000e+09</td>\n",
       "      <td>51.0</td>\n",
       "      <td>0.551010</td>\n",
       "      <td>3.841176e+07</td>\n",
       "    </tr>\n",
       "    <tr>\n",
       "      <th>3</th>\n",
       "      <td>American Samoa</td>\n",
       "      <td>NaN</td>\n",
       "      <td>NaN</td>\n",
       "      <td>0.641026</td>\n",
       "      <td>NaN</td>\n",
       "    </tr>\n",
       "    <tr>\n",
       "      <th>4</th>\n",
       "      <td>Andorra</td>\n",
       "      <td>9.000000e+06</td>\n",
       "      <td>121.0</td>\n",
       "      <td>88.695650</td>\n",
       "      <td>7.438017e+04</td>\n",
       "    </tr>\n",
       "  </tbody>\n",
       "</table>\n",
       "</div>"
      ],
      "text/plain": [
       "          Country  Energy Supply  Energy Supply per Capita  % Renewable  \\\n",
       "0     Afghanistan   3.210000e+08                      10.0    78.669280   \n",
       "1         Albania   1.020000e+08                      35.0   100.000000   \n",
       "2         Algeria   1.959000e+09                      51.0     0.551010   \n",
       "3  American Samoa            NaN                       NaN     0.641026   \n",
       "4         Andorra   9.000000e+06                     121.0    88.695650   \n",
       "\n",
       "     Population  \n",
       "0  3.210000e+07  \n",
       "1  2.914286e+06  \n",
       "2  3.841176e+07  \n",
       "3           NaN  \n",
       "4  7.438017e+04  "
      ]
     },
     "execution_count": 15,
     "metadata": {},
     "output_type": "execute_result"
    }
   ],
   "source": [
    "df['Population'] = df['Energy Supply'] / df['Energy Supply per Capita']\n",
    "df.head()"
   ]
  },
  {
   "cell_type": "markdown",
   "metadata": {
    "id": "f0l3PxaJjgps"
   },
   "source": [
    "Cree un nuevo dataframa que contenga solo a los países con poblaciones superiores a un millón de habitantes. Indique cuantos registros contiene el nuevo DataFrame."
   ]
  },
  {
   "cell_type": "code",
   "execution_count": 16,
   "metadata": {
    "id": "4KHnbGZXja28"
   },
   "outputs": [
    {
     "data": {
      "text/html": [
       "<div>\n",
       "<style scoped>\n",
       "    .dataframe tbody tr th:only-of-type {\n",
       "        vertical-align: middle;\n",
       "    }\n",
       "\n",
       "    .dataframe tbody tr th {\n",
       "        vertical-align: top;\n",
       "    }\n",
       "\n",
       "    .dataframe thead th {\n",
       "        text-align: right;\n",
       "    }\n",
       "</style>\n",
       "<table border=\"1\" class=\"dataframe\">\n",
       "  <thead>\n",
       "    <tr style=\"text-align: right;\">\n",
       "      <th></th>\n",
       "      <th>Country</th>\n",
       "      <th>Energy Supply</th>\n",
       "      <th>Energy Supply per Capita</th>\n",
       "      <th>% Renewable</th>\n",
       "      <th>Population</th>\n",
       "    </tr>\n",
       "  </thead>\n",
       "  <tbody>\n",
       "    <tr>\n",
       "      <th>0</th>\n",
       "      <td>Afghanistan</td>\n",
       "      <td>3.210000e+08</td>\n",
       "      <td>10.0</td>\n",
       "      <td>78.66928</td>\n",
       "      <td>3.210000e+07</td>\n",
       "    </tr>\n",
       "    <tr>\n",
       "      <th>1</th>\n",
       "      <td>Albania</td>\n",
       "      <td>1.020000e+08</td>\n",
       "      <td>35.0</td>\n",
       "      <td>100.00000</td>\n",
       "      <td>2.914286e+06</td>\n",
       "    </tr>\n",
       "    <tr>\n",
       "      <th>2</th>\n",
       "      <td>Algeria</td>\n",
       "      <td>1.959000e+09</td>\n",
       "      <td>51.0</td>\n",
       "      <td>0.55101</td>\n",
       "      <td>3.841176e+07</td>\n",
       "    </tr>\n",
       "    <tr>\n",
       "      <th>5</th>\n",
       "      <td>Angola</td>\n",
       "      <td>6.420000e+08</td>\n",
       "      <td>27.0</td>\n",
       "      <td>70.90909</td>\n",
       "      <td>2.377778e+07</td>\n",
       "    </tr>\n",
       "    <tr>\n",
       "      <th>8</th>\n",
       "      <td>Argentina</td>\n",
       "      <td>3.378000e+09</td>\n",
       "      <td>79.0</td>\n",
       "      <td>24.06452</td>\n",
       "      <td>4.275949e+07</td>\n",
       "    </tr>\n",
       "  </tbody>\n",
       "</table>\n",
       "</div>"
      ],
      "text/plain": [
       "       Country  Energy Supply  Energy Supply per Capita  % Renewable  \\\n",
       "0  Afghanistan   3.210000e+08                      10.0     78.66928   \n",
       "1      Albania   1.020000e+08                      35.0    100.00000   \n",
       "2      Algeria   1.959000e+09                      51.0      0.55101   \n",
       "5       Angola   6.420000e+08                      27.0     70.90909   \n",
       "8    Argentina   3.378000e+09                      79.0     24.06452   \n",
       "\n",
       "     Population  \n",
       "0  3.210000e+07  \n",
       "1  2.914286e+06  \n",
       "2  3.841176e+07  \n",
       "5  2.377778e+07  \n",
       "8  4.275949e+07  "
      ]
     },
     "execution_count": 16,
     "metadata": {},
     "output_type": "execute_result"
    }
   ],
   "source": [
    "df_filtered = df[df['Population'] > 1000000]\n",
    "df_filtered.head()"
   ]
  },
  {
   "cell_type": "code",
   "execution_count": 17,
   "metadata": {
    "id": "ZraZnu57j2wM"
   },
   "outputs": [
    {
     "name": "stdout",
     "output_type": "stream",
     "text": [
      "<class 'pandas.core.frame.DataFrame'>\n",
      "Index: 157 entries, 0 to 226\n",
      "Data columns (total 5 columns):\n",
      " #   Column                    Non-Null Count  Dtype  \n",
      "---  ------                    --------------  -----  \n",
      " 0   Country                   157 non-null    object \n",
      " 1   Energy Supply             157 non-null    float64\n",
      " 2   Energy Supply per Capita  157 non-null    float64\n",
      " 3   % Renewable               157 non-null    float64\n",
      " 4   Population                157 non-null    float64\n",
      "dtypes: float64(4), object(1)\n",
      "memory usage: 7.4+ KB\n"
     ]
    }
   ],
   "source": [
    "df_filtered.info()"
   ]
  },
  {
   "cell_type": "markdown",
   "metadata": {
    "id": "DvcZc1eskKQc"
   },
   "source": [
    "Ordene el DataFrame por la variable '% Renewable' de manera descendente y seleccione los 10 primeros. ¿Hay algún país latinoamericano en este listado? ¿Hay algún país europeo?"
   ]
  },
  {
   "cell_type": "code",
   "execution_count": 18,
   "metadata": {
    "id": "xHQS8GtMkFcz"
   },
   "outputs": [
    {
     "name": "stdout",
     "output_type": "stream",
     "text": [
      "Los 10 países con mayor porcentaje de energía renovable son:\n"
     ]
    },
    {
     "data": {
      "text/html": [
       "<div>\n",
       "<style scoped>\n",
       "    .dataframe tbody tr th:only-of-type {\n",
       "        vertical-align: middle;\n",
       "    }\n",
       "\n",
       "    .dataframe tbody tr th {\n",
       "        vertical-align: top;\n",
       "    }\n",
       "\n",
       "    .dataframe thead th {\n",
       "        text-align: right;\n",
       "    }\n",
       "</style>\n",
       "<table border=\"1\" class=\"dataframe\">\n",
       "  <thead>\n",
       "    <tr style=\"text-align: right;\">\n",
       "      <th></th>\n",
       "      <th>Country</th>\n",
       "      <th>Energy Supply</th>\n",
       "      <th>Energy Supply per Capita</th>\n",
       "      <th>% Renewable</th>\n",
       "      <th>Population</th>\n",
       "    </tr>\n",
       "  </thead>\n",
       "  <tbody>\n",
       "    <tr>\n",
       "      <th>23</th>\n",
       "      <td>Bhutan</td>\n",
       "      <td>6.300000e+07</td>\n",
       "      <td>83.0</td>\n",
       "      <td>100.00000</td>\n",
       "      <td>7.590361e+05</td>\n",
       "    </tr>\n",
       "    <tr>\n",
       "      <th>116</th>\n",
       "      <td>Lesotho</td>\n",
       "      <td>4.800000e+07</td>\n",
       "      <td>23.0</td>\n",
       "      <td>100.00000</td>\n",
       "      <td>2.086957e+06</td>\n",
       "    </tr>\n",
       "    <tr>\n",
       "      <th>1</th>\n",
       "      <td>Albania</td>\n",
       "      <td>1.020000e+08</td>\n",
       "      <td>35.0</td>\n",
       "      <td>100.00000</td>\n",
       "      <td>2.914286e+06</td>\n",
       "    </tr>\n",
       "    <tr>\n",
       "      <th>157</th>\n",
       "      <td>Paraguay</td>\n",
       "      <td>2.280000e+08</td>\n",
       "      <td>35.0</td>\n",
       "      <td>99.99503</td>\n",
       "      <td>6.514286e+06</td>\n",
       "    </tr>\n",
       "    <tr>\n",
       "      <th>95</th>\n",
       "      <td>Iceland</td>\n",
       "      <td>3.120000e+08</td>\n",
       "      <td>957.0</td>\n",
       "      <td>99.97240</td>\n",
       "      <td>3.260188e+05</td>\n",
       "    </tr>\n",
       "    <tr>\n",
       "      <th>68</th>\n",
       "      <td>Ethiopia</td>\n",
       "      <td>1.394000e+09</td>\n",
       "      <td>15.0</td>\n",
       "      <td>99.90825</td>\n",
       "      <td>9.293333e+07</td>\n",
       "    </tr>\n",
       "    <tr>\n",
       "      <th>199</th>\n",
       "      <td>Tajikistan</td>\n",
       "      <td>1.060000e+08</td>\n",
       "      <td>13.0</td>\n",
       "      <td>99.74292</td>\n",
       "      <td>8.153846e+06</td>\n",
       "    </tr>\n",
       "    <tr>\n",
       "      <th>225</th>\n",
       "      <td>Zambia</td>\n",
       "      <td>4.000000e+08</td>\n",
       "      <td>26.0</td>\n",
       "      <td>99.71467</td>\n",
       "      <td>1.538462e+07</td>\n",
       "    </tr>\n",
       "    <tr>\n",
       "      <th>142</th>\n",
       "      <td>Nepal</td>\n",
       "      <td>4.580000e+08</td>\n",
       "      <td>16.0</td>\n",
       "      <td>99.68051</td>\n",
       "      <td>2.862500e+07</td>\n",
       "    </tr>\n",
       "    <tr>\n",
       "      <th>57</th>\n",
       "      <td>Democratic Republic of the Congo</td>\n",
       "      <td>8.880000e+08</td>\n",
       "      <td>12.0</td>\n",
       "      <td>99.59430</td>\n",
       "      <td>7.400000e+07</td>\n",
       "    </tr>\n",
       "  </tbody>\n",
       "</table>\n",
       "</div>"
      ],
      "text/plain": [
       "                              Country  Energy Supply  \\\n",
       "23                             Bhutan   6.300000e+07   \n",
       "116                           Lesotho   4.800000e+07   \n",
       "1                             Albania   1.020000e+08   \n",
       "157                          Paraguay   2.280000e+08   \n",
       "95                            Iceland   3.120000e+08   \n",
       "68                           Ethiopia   1.394000e+09   \n",
       "199                        Tajikistan   1.060000e+08   \n",
       "225                            Zambia   4.000000e+08   \n",
       "142                             Nepal   4.580000e+08   \n",
       "57   Democratic Republic of the Congo   8.880000e+08   \n",
       "\n",
       "     Energy Supply per Capita  % Renewable    Population  \n",
       "23                       83.0    100.00000  7.590361e+05  \n",
       "116                      23.0    100.00000  2.086957e+06  \n",
       "1                        35.0    100.00000  2.914286e+06  \n",
       "157                      35.0     99.99503  6.514286e+06  \n",
       "95                      957.0     99.97240  3.260188e+05  \n",
       "68                       15.0     99.90825  9.293333e+07  \n",
       "199                      13.0     99.74292  8.153846e+06  \n",
       "225                      26.0     99.71467  1.538462e+07  \n",
       "142                      16.0     99.68051  2.862500e+07  \n",
       "57                       12.0     99.59430  7.400000e+07  "
      ]
     },
     "execution_count": 18,
     "metadata": {},
     "output_type": "execute_result"
    }
   ],
   "source": [
    "top_10_renewable = df.sort_values(by='% Renewable', ascending=False).head(10)\n",
    "print(\"Los 10 países con mayor porcentaje de energía renovable son:\")\n",
    "top_10_renewable\n",
    "\n"
   ]
  },
  {
   "cell_type": "code",
   "execution_count": 19,
   "metadata": {},
   "outputs": [
    {
     "name": "stdout",
     "output_type": "stream",
     "text": [
      "¿Hay algún país latinoamericano en el listado? Sí\n",
      "¿Hay algún país europeo en el listado? Sí\n"
     ]
    }
   ],
   "source": [
    "latin = ['Argentina', 'Bolivia', 'Brasil', 'Chile', 'Colombia', 'Costa Rica', 'Cuba', 'Ecuador', 'El Salvador', 'Guatemala', 'Honduras', 'México', 'Nicaragua', 'Panamá', 'Paraguay', 'Perú', 'Puerto Rico', 'República Dominicana', 'Uruguay', 'Venezuela']\n",
    "european = ['Albania', 'Alemania', 'Andorra', 'Armenia', 'Austria', 'Azerbaiyán', 'Bélgica', 'Bielorrusia', 'Bosnia y Herzegovina', 'Bulgaria', 'Chipre', 'Croacia', 'Dinamarca', 'Eslovaquia', 'Eslovenia', 'España', 'Estonia', 'Finlandia', 'Francia', 'Georgia', 'Grecia', 'Hungría', 'Irlanda', 'Islandia', 'Italia', 'Kazajistán', 'Letonia', 'Liechtenstein', 'Lituania', 'Luxemburgo', 'Macedonia del Norte', 'Malta', 'Moldavia', 'Mónaco', 'Montenegro', 'Noruega', 'Países Bajos', 'Polonia', 'Portugal', 'Reino Unido', 'República Checa', 'Rumania', 'Rusia', 'San Marino', 'Serbia', 'Suecia', 'Suiza', 'Turquía', 'Ucrania', 'Vaticano']\n",
    "\n",
    "es_latino = any(country in latin for country in top_10_renewable['Country'])\n",
    "\n",
    "es_europeo = any(country in european for country in top_10_renewable['Country'])\n",
    "\n",
    "print(f\"¿Hay algún país latinoamericano en el listado? {'Sí' if es_latino else 'No'}\")\n",
    "print(f\"¿Hay algún país europeo en el listado? {'Sí' if es_europeo else 'No'}\")"
   ]
  },
  {
   "cell_type": "markdown",
   "metadata": {
    "id": "oLlt3svTmBqc"
   },
   "source": [
    "Ahora indique cuales son los 10 países con poblaciones superiores a 50 millones de personas que tienen en mayor porcentaje de energías renovables. Indique cuantos países latinoamericanos hay en este listado."
   ]
  },
  {
   "cell_type": "code",
   "execution_count": 20,
   "metadata": {
    "id": "DxXyNw3eknbv"
   },
   "outputs": [
    {
     "data": {
      "text/html": [
       "<div>\n",
       "<style scoped>\n",
       "    .dataframe tbody tr th:only-of-type {\n",
       "        vertical-align: middle;\n",
       "    }\n",
       "\n",
       "    .dataframe tbody tr th {\n",
       "        vertical-align: top;\n",
       "    }\n",
       "\n",
       "    .dataframe thead th {\n",
       "        text-align: right;\n",
       "    }\n",
       "</style>\n",
       "<table border=\"1\" class=\"dataframe\">\n",
       "  <thead>\n",
       "    <tr style=\"text-align: right;\">\n",
       "      <th></th>\n",
       "      <th>Country</th>\n",
       "      <th>Energy Supply</th>\n",
       "      <th>Energy Supply per Capita</th>\n",
       "      <th>% Renewable</th>\n",
       "      <th>Population</th>\n",
       "    </tr>\n",
       "  </thead>\n",
       "  <tbody>\n",
       "    <tr>\n",
       "      <th>68</th>\n",
       "      <td>Ethiopia</td>\n",
       "      <td>1.394000e+09</td>\n",
       "      <td>15.0</td>\n",
       "      <td>99.90825</td>\n",
       "      <td>9.293333e+07</td>\n",
       "    </tr>\n",
       "    <tr>\n",
       "      <th>57</th>\n",
       "      <td>Democratic Republic of the Congo</td>\n",
       "      <td>8.880000e+08</td>\n",
       "      <td>12.0</td>\n",
       "      <td>99.59430</td>\n",
       "      <td>7.400000e+07</td>\n",
       "    </tr>\n",
       "    <tr>\n",
       "      <th>139</th>\n",
       "      <td>Myanmar</td>\n",
       "      <td>6.820000e+08</td>\n",
       "      <td>13.0</td>\n",
       "      <td>72.04213</td>\n",
       "      <td>5.246154e+07</td>\n",
       "    </tr>\n",
       "    <tr>\n",
       "      <th>28</th>\n",
       "      <td>Brazil</td>\n",
       "      <td>1.214900e+10</td>\n",
       "      <td>59.0</td>\n",
       "      <td>69.64803</td>\n",
       "      <td>2.059153e+08</td>\n",
       "    </tr>\n",
       "    <tr>\n",
       "      <th>222</th>\n",
       "      <td>Viet Nam</td>\n",
       "      <td>2.554000e+09</td>\n",
       "      <td>28.0</td>\n",
       "      <td>45.32152</td>\n",
       "      <td>9.121429e+07</td>\n",
       "    </tr>\n",
       "    <tr>\n",
       "      <th>103</th>\n",
       "      <td>Italy</td>\n",
       "      <td>6.530000e+09</td>\n",
       "      <td>109.0</td>\n",
       "      <td>33.66723</td>\n",
       "      <td>5.990826e+07</td>\n",
       "    </tr>\n",
       "    <tr>\n",
       "      <th>153</th>\n",
       "      <td>Pakistan</td>\n",
       "      <td>2.868000e+09</td>\n",
       "      <td>16.0</td>\n",
       "      <td>31.87684</td>\n",
       "      <td>1.792500e+08</td>\n",
       "    </tr>\n",
       "    <tr>\n",
       "      <th>207</th>\n",
       "      <td>Turkey</td>\n",
       "      <td>4.897000e+09</td>\n",
       "      <td>64.0</td>\n",
       "      <td>28.53669</td>\n",
       "      <td>7.651562e+07</td>\n",
       "    </tr>\n",
       "    <tr>\n",
       "      <th>159</th>\n",
       "      <td>Philippines</td>\n",
       "      <td>1.781000e+09</td>\n",
       "      <td>18.0</td>\n",
       "      <td>26.17264</td>\n",
       "      <td>9.894444e+07</td>\n",
       "    </tr>\n",
       "    <tr>\n",
       "      <th>42</th>\n",
       "      <td>China</td>\n",
       "      <td>1.271910e+11</td>\n",
       "      <td>93.0</td>\n",
       "      <td>19.75491</td>\n",
       "      <td>1.367645e+09</td>\n",
       "    </tr>\n",
       "  </tbody>\n",
       "</table>\n",
       "</div>"
      ],
      "text/plain": [
       "                              Country  Energy Supply  \\\n",
       "68                           Ethiopia   1.394000e+09   \n",
       "57   Democratic Republic of the Congo   8.880000e+08   \n",
       "139                           Myanmar   6.820000e+08   \n",
       "28                             Brazil   1.214900e+10   \n",
       "222                          Viet Nam   2.554000e+09   \n",
       "103                             Italy   6.530000e+09   \n",
       "153                          Pakistan   2.868000e+09   \n",
       "207                            Turkey   4.897000e+09   \n",
       "159                       Philippines   1.781000e+09   \n",
       "42                              China   1.271910e+11   \n",
       "\n",
       "     Energy Supply per Capita  % Renewable    Population  \n",
       "68                       15.0     99.90825  9.293333e+07  \n",
       "57                       12.0     99.59430  7.400000e+07  \n",
       "139                      13.0     72.04213  5.246154e+07  \n",
       "28                       59.0     69.64803  2.059153e+08  \n",
       "222                      28.0     45.32152  9.121429e+07  \n",
       "103                     109.0     33.66723  5.990826e+07  \n",
       "153                      16.0     31.87684  1.792500e+08  \n",
       "207                      64.0     28.53669  7.651562e+07  \n",
       "159                      18.0     26.17264  9.894444e+07  \n",
       "42                       93.0     19.75491  1.367645e+09  "
      ]
     },
     "execution_count": 20,
     "metadata": {},
     "output_type": "execute_result"
    }
   ],
   "source": [
    "df_large_pop = df[df['Population'] > 50e6]\n",
    "df_sorted = df_large_pop.sort_values(by='% Renewable', ascending=False)\n",
    "top_10 = df_sorted.head(10)\n",
    "\n",
    "top_10\n"
   ]
  },
  {
   "cell_type": "code",
   "execution_count": 21,
   "metadata": {},
   "outputs": [
    {
     "name": "stdout",
     "output_type": "stream",
     "text": [
      "¿Hay algún país latinoamericano en el listado? Sí\n",
      "¿Hay algún país europeo en el listado? No\n"
     ]
    }
   ],
   "source": [
    "latin = ['Argentina', 'Bolivia', 'Brazil', 'Chile', 'Colombia', 'Costa Rica', 'Cuba', 'Ecuador', 'El Salvador', 'Guatemala', 'Honduras', 'México', 'Nicaragua', 'Panamá', 'Paraguay', 'Perú', 'Puerto Rico', 'República Dominicana', 'Uruguay', 'Venezuela']\n",
    "european = ['Albania', 'Alemania', 'Andorra', 'Armenia', 'Austria', 'Azerbaiyán', 'Bélgica', 'Bielorrusia', 'Bosnia y Herzegovina', 'Bulgaria', 'Chipre', 'Croacia', 'Dinamarca', 'Eslovaquia', 'Eslovenia', 'España', 'Estonia', 'Finlandia', 'Francia', 'Georgia', 'Grecia', 'Hungría', 'Irlanda', 'Islandia', 'Italia', 'Kazajistán', 'Letonia', 'Liechtenstein', 'Lituania', 'Luxemburgo', 'Macedonia del Norte', 'Malta', 'Moldavia', 'Mónaco', 'Montenegro', 'Noruega', 'Países Bajos', 'Polonia', 'Portugal', 'Reino Unido', 'República Checa', 'Rumania', 'Rusia', 'San Marino', 'Serbia', 'Suecia', 'Suiza', 'Turquía', 'Ucrania', 'Vaticano']\n",
    "\n",
    "es_latino = any(country in latin for country in top_10['Country'])\n",
    "\n",
    "es_europeo = any(country in european for country in top_10['Country'])\n",
    "\n",
    "print(f\"¿Hay algún país latinoamericano en el listado? {'Sí' if es_latino else 'No'}\")\n",
    "print(f\"¿Hay algún país europeo en el listado? {'Sí' if es_europeo else 'No'}\")"
   ]
  },
  {
   "cell_type": "code",
   "execution_count": null,
   "metadata": {},
   "outputs": [],
   "source": []
  },
  {
   "cell_type": "code",
   "execution_count": null,
   "metadata": {},
   "outputs": [],
   "source": []
  },
  {
   "cell_type": "code",
   "execution_count": null,
   "metadata": {},
   "outputs": [],
   "source": []
  }
 ],
 "metadata": {
  "colab": {
   "provenance": []
  },
  "kernelspec": {
   "display_name": "Python 3 (ipykernel)",
   "language": "python",
   "name": "python3"
  },
  "language_info": {
   "codemirror_mode": {
    "name": "ipython",
    "version": 3
   },
   "file_extension": ".py",
   "mimetype": "text/x-python",
   "name": "python",
   "nbconvert_exporter": "python",
   "pygments_lexer": "ipython3",
   "version": "3.11.5"
  }
 },
 "nbformat": 4,
 "nbformat_minor": 1
}
